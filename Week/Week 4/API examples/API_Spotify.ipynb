{
  "nbformat": 4,
  "nbformat_minor": 0,
  "metadata": {
    "colab": {
      "provenance": [],
      "collapsed_sections": []
    },
    "kernelspec": {
      "name": "python3",
      "display_name": "Python 3"
    },
    "language_info": {
      "name": "python"
    }
  },
  "cells": [
    {
      "cell_type": "markdown",
      "metadata": {
        "id": "ReHSmXgTw-um"
      },
      "source": [
        "Register for a developer API key and create a new application [here](https://developer.spotify.com/dashboard/applications/)."
      ]
    },
    {
      "cell_type": "markdown",
      "metadata": {
        "id": "COvtckKhxI8Q"
      },
      "source": [
        "Then read [this](https://stmorse.github.io/journal/spotify-api.html)."
      ]
    },
    {
      "cell_type": "code",
      "metadata": {
        "id": "XOiCWTturVek"
      },
      "source": [
        "import requests\n",
        "\n",
        "CLIENT_ID = 'f4d0fffee24946109ad68f8d3e6b9087'\n",
        "CLIENT_SECRET = '48b3eb3089504581a1d3c3ba2b6b24c7'"
      ],
      "execution_count": null,
      "outputs": []
    },
    {
      "cell_type": "code",
      "metadata": {
        "id": "Ww2KcVlVw-QI"
      },
      "source": [
        "AUTH_URL = 'https://accounts.spotify.com/api/token'\n",
        "\n",
        "# POST\n",
        "auth_response = requests.post(AUTH_URL, {\n",
        "    'grant_type': 'client_credentials',\n",
        "    'client_id': CLIENT_ID,\n",
        "    'client_secret': CLIENT_SECRET,\n",
        "})\n",
        "\n",
        "# convert the response to JSON\n",
        "auth_response_data = auth_response.json()\n",
        "\n",
        "# save the access token\n",
        "access_token = auth_response_data['access_token']"
      ],
      "execution_count": null,
      "outputs": []
    },
    {
      "cell_type": "code",
      "metadata": {
        "id": "q5gPPr26rWdc"
      },
      "source": [
        "headers = {\n",
        "    'Authorization': 'Bearer {token}'.format(token=access_token)\n",
        "}"
      ],
      "execution_count": null,
      "outputs": []
    },
    {
      "cell_type": "code",
      "metadata": {
        "id": "aqaCcwknrXry"
      },
      "source": [
        "# base URL of all Spotify API endpoints\n",
        "BASE_URL = 'https://api.spotify.com/v1/'\n",
        "\n",
        "# Track ID from the URI\n",
        "track_id = '6y0igZArWVi6Iz0rj35c1Y'\n",
        "\n",
        "# actual GET request with proper header\n",
        "r = requests.get(BASE_URL + 'audio-features/' + track_id, headers=headers)"
      ],
      "execution_count": null,
      "outputs": []
    },
    {
      "cell_type": "code",
      "metadata": {
        "colab": {
          "base_uri": "https://localhost:8080/"
        },
        "id": "93AJ37hzrxpT",
        "outputId": "84796f5a-a2e4-4b4b-e37a-bc89f6148f00"
      },
      "source": [
        "r.json()"
      ],
      "execution_count": null,
      "outputs": [
        {
          "output_type": "execute_result",
          "data": {
            "text/plain": [
              "{'acousticness': 0.446,\n",
              " 'analysis_url': 'https://api.spotify.com/v1/audio-analysis/6y0igZArWVi6Iz0rj35c1Y',\n",
              " 'danceability': 0.54,\n",
              " 'duration_ms': 234910,\n",
              " 'energy': 0.59,\n",
              " 'id': '6y0igZArWVi6Iz0rj35c1Y',\n",
              " 'instrumentalness': 0,\n",
              " 'key': 0,\n",
              " 'liveness': 0.14,\n",
              " 'loudness': -4.359,\n",
              " 'mode': 1,\n",
              " 'speechiness': 0.0528,\n",
              " 'tempo': 119.878,\n",
              " 'time_signature': 4,\n",
              " 'track_href': 'https://api.spotify.com/v1/tracks/6y0igZArWVi6Iz0rj35c1Y',\n",
              " 'type': 'audio_features',\n",
              " 'uri': 'spotify:track:6y0igZArWVi6Iz0rj35c1Y',\n",
              " 'valence': 0.267}"
            ]
          },
          "metadata": {},
          "execution_count": 9
        }
      ]
    }
  ]
}